{
  "nbformat": 4,
  "nbformat_minor": 0,
  "metadata": {
    "colab": {
      "provenance": []
    },
    "kernelspec": {
      "name": "python3",
      "display_name": "Python 3"
    },
    "language_info": {
      "name": "python"
    }
  },
  "cells": [
    {
      "cell_type": "markdown",
      "source": [
        "#  Files & exceptional handling"
      ],
      "metadata": {
        "id": "jJkWEMNKjOXo"
      }
    },
    {
      "cell_type": "markdown",
      "source": [
        "\n",
        "\n",
        "## 1. What is the difference between interpreted and compiled languages?\n",
        "**Answer:**  \n",
        "- **Interpreted languages** (e.g., Python) execute code line by line using an interpreter, making debugging easier but execution slower.  \n",
        "- **Compiled languages** (e.g., C, C++) translate the entire code into machine code before execution, resulting in faster performance but requiring a compilation step.\n",
        "\n",
        "## 2. What is exception handling in Python?\n",
        "**Answer:**  \n",
        "Exception handling in Python is a mechanism to handle runtime errors gracefully using `try`, `except`, `else`, and `finally` blocks. This prevents the program from crashing and ensures proper error management.\n",
        "\n",
        "## 3. What is the purpose of the `finally` block in exception handling?\n",
        "**Answer:**  \n",
        "The `finally` block is executed regardless of whether an exception occurs or not. It is typically used for cleanup tasks like closing files or releasing resources.\n",
        "\n",
        "## 4. What is logging in Python?\n",
        "**Answer:**  \n",
        "Logging in Python is the process of recording events that happen during program execution using the `logging` module. It helps in debugging, tracking errors, and maintaining logs for analysis.\n",
        "\n",
        "## 5. What is the significance of the `__del__` method in Python?\n",
        "**Answer:**  \n",
        "The `__del__` method is called when an object is about to be destroyed. It is mainly used for resource cleanup, such as closing database connections or releasing memory.\n",
        "\n",
        "## 6. What is the difference between `import` and `from ... import` in Python?\n",
        "**Answer:**  \n",
        "- `import module_name` imports the entire module, requiring functions to be called with `module_name.function()`.  \n",
        "- `from module_name import function_name` imports only specific functions, allowing direct use as `function_name()`.\n",
        "\n",
        "## 7. How can you handle multiple exceptions in Python?\n",
        "**Answer:**  \n",
        "Multiple exceptions can be handled using:  \n",
        "```python\n",
        "try:\n",
        "    x = 1 / 0\n",
        "except ZeroDivisionError:\n",
        "    print(\"Cannot divide by zero\")\n",
        "except ValueError:\n",
        "    print(\"Invalid value\")\n",
        "```\n",
        "---\n",
        "\n",
        "## 8. What is the purpose of the `with` statement when handling files in Python?\n",
        "\n",
        "**Answer:**     \n",
        "The `with` statement ensures that files are automatically closed after execution, even if an error occurs.  \n",
        "\n",
        "```python\n",
        "with open(\"file.txt\", \"r\") as file:\n",
        "    data = file.read()\n",
        "# No need to explicitly close the file\n",
        "```\n",
        "---\n",
        "\n",
        "## 9. What is the difference between multithreading and multiprocessing?\n",
        "\n",
        "**Answer:**\n",
        "\n",
        "- Multithreading: Runs multiple threads in the same process, sharing memory. Suitable for I/O-bound tasks.\n",
        "\n",
        "- Multiprocessing: Creates separate processes with independent memory. Suitable for CPU-intensive tasks.\n",
        "---\n",
        "\n",
        "## 10. What are the advantages of using logging in a program?\n",
        "\n",
        "**Answer:**\n",
        "\n",
        "- Helps in debugging and tracking errors\n",
        "\n",
        "- Provides a history of program execution\n",
        "\n",
        "- Useful for auditing and monitoring\n",
        "\n",
        "- Can be configured to log messages at different levels\n",
        "---\n",
        "\n",
        "## 11. What is memory management in Python?\n",
        "\n",
        "**Answer:**\n",
        "- Memory management in Python is handled automatically using reference counting and garbage collection to free unused memory.\n",
        "---\n",
        "\n",
        "## 12. What are the basic steps involved in exception handling in Python?\n",
        "\n",
        "**Answer:**\n",
        "\n",
        "- Use try block to wrap risky code\n",
        "\n",
        "- Use except block to handle exceptions\n",
        "\n",
        "- Use else block to execute code if no exception occurs\n",
        "\n",
        "- Use finally block for cleanup\n",
        "---\n",
        "\n",
        "## 13. Why is memory management important in Python?\n",
        "\n",
        "**Answer:**\n",
        "- Proper memory management prevents memory leaks, optimizes performance, and ensures efficient resource utilization.\n",
        "---\n",
        "\n",
        "## 14. What is the role of try and except in exception handling?\n",
        "\n",
        "**Answer:**\n",
        "\n",
        "- The try block contains the code that may raise an exception.\n",
        "\n",
        "- The except block catches and handles exceptions, preventing crashes.\n",
        "---\n",
        "\n",
        "## 15. How does Python’s garbage collection system work?\n",
        "\n",
        "**Answer:**\n",
        "- Python uses reference counting and cyclic garbage collection to automatically free memory occupied by objects no longer in use.\n",
        "---\n",
        "\n",
        "## 16. What is the purpose of the else block in exception handling?\n",
        "\n",
        "**Answer:**\n",
        "- The else block runs code only if no exceptions occur in the try block.\n",
        "---\n",
        "\n",
        "## 17. What are the common logging levels in Python?\n",
        "\n",
        "**Answer:**\n",
        "\n",
        "- DEBUG: Detailed information for diagnosing issues\n",
        "\n",
        "- INFO: Confirmation that things are working\n",
        "\n",
        "- WARNING: Indication of potential problems\n",
        "\n",
        "- ERROR: A serious error occurred\n",
        "\n",
        "- CRITICAL: A severe issue that caused a program crash\n",
        "---\n",
        "\n",
        "## 18. What is the difference between os.fork() and multiprocessing in Python?\n",
        "\n",
        "**Answer:**\n",
        "\n",
        "- os.fork(): Creates a child process by duplicating the parent (only on Unix).\n",
        "\n",
        "- multiprocessing: A cross-platform module that creates separate processes, useful for parallel execution.\n",
        "---\n",
        "\n",
        "## 19. What is the importance of closing a file in Python?\n",
        "\n",
        "**Answer:**\n",
        "- Closing a file ensures that all data is properly saved, prevents memory leaks, and releases system resources.\n",
        "---\n",
        "\n",
        "## 20. What is the difference between file.read() and file.readline() in Python?\n",
        "\n",
        "**Answer:**\n",
        "\n",
        "- file.read() reads the entire file or a specified number of bytes.\n",
        "\n",
        "- file.readline() reads one line at a time.\n",
        "---\n",
        "\n",
        "## 21. What is the logging module in Python used for?\n",
        "\n",
        "**Answer:**\n",
        "- The logging module is used for tracking events, debugging, and storing logs in files.\n",
        "---\n",
        "\n",
        "## 22. What is the os module in Python used for in file handling?\n",
        "\n",
        "**Answer:**\n",
        "- The os module allows interaction with the operating system, such as file creation, deletion, renaming, and directory manipulation.\n",
        "---\n",
        "\n",
        "## 23. What are the challenges associated with memory management in Python?\n",
        "\n",
        "**Answer:**\n",
        "\n",
        "- Memory leaks due to circular references\n",
        "\n",
        "- Inefficient garbage collection\n",
        "\n",
        "- Handling large objects in memory\n",
        "---\n",
        "\n",
        "## 24. How do you raise an exception manually in Python?\n",
        "\n",
        "**Answer:**\n",
        "Use the raise keyword:\n",
        "\n",
        "```python\n",
        "\n",
        "raise ValueError(\"This is a custom exception\")\n",
        "```\n",
        "---\n",
        "\n",
        "\n",
        "## 25. Why is it important to use multithreading in certain applications?\n",
        "\n",
        "**Answer:**\n",
        "\n",
        "- Multithreading improves performance in I/O-bound applications (e.g., web scraping, GUI applications) by allowing multiple tasks to run concurrently. However, due to Python's Global Interpreter Lock (GIL), it is not efficient for CPU-intensive tasks.\n",
        "---\n",
        "\n",
        "\n"
      ],
      "metadata": {
        "id": "ar3JI0v4EDvc"
      }
    },
    {
      "cell_type": "code",
      "source": [
        "# 1. How can you open a file for writing in Python and write a string to it?\n",
        "#Answer:\n",
        "#Use the open() function with \"w\" mode:\n",
        "\n",
        "with open(\"example.txt\", \"w\") as file:\n",
        "    file.write(\"Hello, World!\")"
      ],
      "metadata": {
        "id": "KqicuLCiPTDH"
      },
      "execution_count": null,
      "outputs": []
    },
    {
      "cell_type": "code",
      "source": [
        "# 2. Write a Python program to read the contents of a file and print each line\n",
        "\n",
        "with open(\"example.txt\", \"r\") as file:\n",
        "    for line in file:\n",
        "        print(line.strip())"
      ],
      "metadata": {
        "colab": {
          "base_uri": "https://localhost:8080/"
        },
        "id": "p622MTBQPTF-",
        "outputId": "465909d1-ec5a-4ab8-fad0-2631ae4348fa"
      },
      "execution_count": null,
      "outputs": [
        {
          "output_type": "stream",
          "name": "stdout",
          "text": [
            "Hello, World!\n"
          ]
        }
      ]
    },
    {
      "cell_type": "code",
      "source": [
        "# 3. How would you handle a case where the file doesn't exist while trying to open it for reading?\n",
        "\n",
        "try:\n",
        "    with open(\"nonexistent.txt\", \"r\") as file:\n",
        "        content = file.read()\n",
        "except FileNotFoundError:\n",
        "    print(\"File not found!\")"
      ],
      "metadata": {
        "colab": {
          "base_uri": "https://localhost:8080/"
        },
        "id": "kjDRzGayPTIb",
        "outputId": "df0f5be5-56bb-4af2-ac95-1c579e5bcd97"
      },
      "execution_count": null,
      "outputs": [
        {
          "output_type": "stream",
          "name": "stdout",
          "text": [
            "File not found!\n"
          ]
        }
      ]
    },
    {
      "cell_type": "code",
      "source": [
        "# 4. Write a Python script that reads from one file and writes its content to another file\n",
        "\n",
        "import os\n",
        "\n",
        "# Create 'source.txt' with some content if it doesn't exist\n",
        "if not os.path.exists(\"source.txt\"):\n",
        "    with open(\"source.txt\", \"w\") as file:\n",
        "        file.write(\"This is the content to be copied.\\nLine 2.\\nLine 3.\")\n",
        "\n",
        "# Now read from source.txt and write to dest.txt\n",
        "with open(\"source.txt\", \"r\") as src, open(\"dest.txt\", \"w\") as dst:\n",
        "    dst.write(src.read())\n",
        "\n",
        "# Print confirmation\n",
        "print(\" Content copied from 'source.txt' to 'dest.txt' successfully!\")\n",
        "\n"
      ],
      "metadata": {
        "colab": {
          "base_uri": "https://localhost:8080/"
        },
        "id": "qEuvuSDsPTLE",
        "outputId": "130fb236-03d7-4f43-d8ef-2e97031bb12d"
      },
      "execution_count": null,
      "outputs": [
        {
          "output_type": "stream",
          "name": "stdout",
          "text": [
            " Content copied from 'source.txt' to 'dest.txt' successfully!\n"
          ]
        }
      ]
    },
    {
      "cell_type": "code",
      "source": [
        "# 5. How would you catch and handle a division by zero error in Python?\n",
        "\n",
        "try:\n",
        "    num = 10\n",
        "    denom = 0\n",
        "    result = num / denom\n",
        "    print(\"Result:\", result)\n",
        "except ZeroDivisionError:\n",
        "    print(\" Error: Division by zero is not allowed.\")\n"
      ],
      "metadata": {
        "id": "326fMLHYPTNt",
        "colab": {
          "base_uri": "https://localhost:8080/"
        },
        "outputId": "ee4f5fb8-48ca-4aa0-bf1e-27beec38f5cf"
      },
      "execution_count": null,
      "outputs": [
        {
          "output_type": "stream",
          "name": "stdout",
          "text": [
            " Error: Division by zero is not allowed.\n"
          ]
        }
      ]
    },
    {
      "cell_type": "code",
      "source": [
        "# 6. Write a Python program that logs an error message to a log file when a division by zero exception occurs\n",
        "\n",
        "import logging\n",
        "\n",
        "logging.basicConfig(filename=\"error.log\", level=logging.ERROR)\n",
        "\n",
        "try:\n",
        "    result = 1 / 0\n",
        "except ZeroDivisionError as e:\n",
        "    logging.error(f\"Error occurred: {e}\")"
      ],
      "metadata": {
        "id": "qjYkKq8XPTQx",
        "colab": {
          "base_uri": "https://localhost:8080/"
        },
        "outputId": "3d140fef-0737-4c4d-ba9e-e450355915bc"
      },
      "execution_count": null,
      "outputs": [
        {
          "output_type": "stream",
          "name": "stderr",
          "text": [
            "ERROR:root:Error occurred: division by zero\n"
          ]
        }
      ]
    },
    {
      "cell_type": "code",
      "source": [
        "# 7. How do you log information at different levels (INFO, ERROR, WARNING) in Python using the logging module?\n",
        "\n",
        "import logging\n",
        "\n",
        "logging.basicConfig(level=logging.DEBUG)\n",
        "\n",
        "logging.info(\"This is an info message\")\n",
        "logging.warning(\"This is a warning\")\n",
        "logging.error(\"This is an error message\")"
      ],
      "metadata": {
        "id": "hQr1aefWPTT0",
        "colab": {
          "base_uri": "https://localhost:8080/"
        },
        "outputId": "947cd413-fdb2-4962-fa96-89e07541a148"
      },
      "execution_count": null,
      "outputs": [
        {
          "output_type": "stream",
          "name": "stderr",
          "text": [
            "WARNING:root:This is a warning\n",
            "ERROR:root:This is an error message\n"
          ]
        }
      ]
    },
    {
      "cell_type": "code",
      "source": [
        "# 8. Write a program to handle a file opening error using exception handling\n",
        "\n",
        "try:\n",
        "    with open(\"file.txt\", \"r\") as file:\n",
        "        print(file.read())\n",
        "except IOError:\n",
        "    print(\"Error opening file\")"
      ],
      "metadata": {
        "id": "SSPIvBBQPTXK",
        "colab": {
          "base_uri": "https://localhost:8080/"
        },
        "outputId": "ae1eb111-f9eb-4533-c5f0-8801ed636a8a"
      },
      "execution_count": null,
      "outputs": [
        {
          "output_type": "stream",
          "name": "stdout",
          "text": [
            "Error opening file\n"
          ]
        }
      ]
    },
    {
      "cell_type": "code",
      "source": [
        "# 9. How can you read a file line by line and store its content in a list in Python?\n",
        "\n",
        "# First, let's create a sample file\n",
        "with open(\"sample.txt\", \"w\") as file:\n",
        "    file.write(\"Line 1\\nLine 2\\nLine 3\")\n",
        "\n",
        "# Now read the file line by line and store in a list\n",
        "lines = []\n",
        "with open(\"sample.txt\", \"r\") as file:\n",
        "    lines = file.readlines()\n",
        "\n",
        "# Print the list\n",
        "print(\"📄 Lines read from file:\")\n",
        "print(lines)"
      ],
      "metadata": {
        "id": "35iMKN-qPTan",
        "colab": {
          "base_uri": "https://localhost:8080/"
        },
        "outputId": "a5b94a31-85a1-4e85-dc34-4788b984cffb"
      },
      "execution_count": null,
      "outputs": [
        {
          "output_type": "stream",
          "name": "stdout",
          "text": [
            "📄 Lines read from file:\n",
            "['Line 1\\n', 'Line 2\\n', 'Line 3']\n"
          ]
        }
      ]
    },
    {
      "cell_type": "code",
      "source": [
        "# 10. How can you append data to an existing file in Python?\n",
        "\n",
        "# First, create a file with initial content (if it doesn't exist)\n",
        "with open(\"data.txt\", \"w\") as file:\n",
        "    file.write(\"Original line 1\\n\")\n",
        "\n",
        "# Now append a new line to the file\n",
        "with open(\"data.txt\", \"a\") as file:\n",
        "    file.write(\"Appended line 2\\n\")\n",
        "\n",
        "# Let's read and print the content to verify\n",
        "with open(\"data.txt\", \"r\") as file:\n",
        "    print(\"📄 File content after appending:\")\n",
        "    print(file.read())"
      ],
      "metadata": {
        "id": "9i4yyjHlPTdQ",
        "colab": {
          "base_uri": "https://localhost:8080/"
        },
        "outputId": "bd100a35-b1dc-4d7b-c90b-e2f34d93084f"
      },
      "execution_count": null,
      "outputs": [
        {
          "output_type": "stream",
          "name": "stdout",
          "text": [
            "📄 File content after appending:\n",
            "Original line 1\n",
            "Appended line 2\n",
            "\n"
          ]
        }
      ]
    },
    {
      "cell_type": "code",
      "source": [
        "#11. Write a Python program that uses a try-except block to handle an error when attempting to access a dictionary key that doesn't exist\n",
        "\n",
        "my_dict = {\"a\": 1}\n",
        "try:\n",
        "    print(my_dict[\"b\"])\n",
        "except KeyError:\n",
        "    print(\"Key not found!\")"
      ],
      "metadata": {
        "id": "ppBN1IZOPTgp",
        "colab": {
          "base_uri": "https://localhost:8080/"
        },
        "outputId": "fe0c7998-3681-4b40-806b-8a25d999b360"
      },
      "execution_count": null,
      "outputs": [
        {
          "output_type": "stream",
          "name": "stdout",
          "text": [
            "Key not found!\n"
          ]
        }
      ]
    },
    {
      "cell_type": "code",
      "source": [
        "# 12. Write a program that demonstrates using multiple except blocks to handle different types of exceptions\n",
        "\n",
        "try:\n",
        "    number = int(input(\"Enter a number: \"))\n",
        "    result = 10 / number\n",
        "    print(\"Result:\", result)\n",
        "\n",
        "    my_list = [1, 2, 3]\n",
        "    print(\"List element:\", my_list[5])  # IndexError\n",
        "\n",
        "except ValueError:\n",
        "    print(\" ValueError: Invalid input. Please enter a number.\")\n",
        "\n",
        "except ZeroDivisionError:\n",
        "    print(\" ZeroDivisionError: Cannot divide by zero.\")\n",
        "\n",
        "except IndexError:\n",
        "    print(\" IndexError: List index out of range.\")\n"
      ],
      "metadata": {
        "id": "HedX5JzIPTji",
        "colab": {
          "base_uri": "https://localhost:8080/"
        },
        "outputId": "56065d95-b48f-44a4-b5e4-45238cc66bd0"
      },
      "execution_count": null,
      "outputs": [
        {
          "output_type": "stream",
          "name": "stdout",
          "text": [
            "Enter a number: sneha\n",
            " ValueError: Invalid input. Please enter a number.\n"
          ]
        }
      ]
    },
    {
      "cell_type": "code",
      "source": [
        "# 13. How would you check if a file exists before attempting to read it in Python?\n",
        "\n",
        "import os\n",
        "\n",
        "# Specify the filename\n",
        "file_name = \"sample_file.txt\"\n",
        "\n",
        "# Check if the file exists\n",
        "if os.path.exists(file_name):\n",
        "    with open(file_name, \"r\") as file:\n",
        "        content = file.read()\n",
        "    print(\"📄 File content:\")\n",
        "    print(content)\n",
        "else:\n",
        "    print(f\" Error: The file '{file_name}' does not exist.\")\n"
      ],
      "metadata": {
        "id": "uu-wUklGPTmY",
        "colab": {
          "base_uri": "https://localhost:8080/"
        },
        "outputId": "69daccba-23ba-4252-b68c-cb94dce189f6"
      },
      "execution_count": null,
      "outputs": [
        {
          "output_type": "stream",
          "name": "stdout",
          "text": [
            " Error: The file 'sample_file.txt' does not exist.\n"
          ]
        }
      ]
    },
    {
      "cell_type": "code",
      "source": [
        "# 14. Write a program that uses the logging module to log both informational and error messages\n",
        "\n",
        "import logging\n",
        "\n",
        "# Set up logging configuration\n",
        "logging.basicConfig(\n",
        "    level=logging.DEBUG,  # Set the level to DEBUG to capture both INFO and ERROR\n",
        "    format='%(asctime)s - %(levelname)s - %(message)s',\n",
        "    handlers=[logging.StreamHandler()]  # Output to the console\n",
        ")\n",
        "\n",
        "# Log an informational message\n",
        "logging.info(\"This is an informational message.\")\n",
        "\n",
        "# Log an error message\n",
        "try:\n",
        "    10 / 0  # Division by zero to trigger an error\n",
        "except ZeroDivisionError as e:\n",
        "    logging.error(\"Error occurred: Division by zero. Details: %s\", e)\n",
        "\n"
      ],
      "metadata": {
        "id": "4KgnK7ikPTpQ",
        "colab": {
          "base_uri": "https://localhost:8080/"
        },
        "outputId": "8fd22f21-a3fc-47ae-e419-f2128c9bc1b2"
      },
      "execution_count": null,
      "outputs": [
        {
          "output_type": "stream",
          "name": "stderr",
          "text": [
            "ERROR:root:Error occurred: Division by zero. Details: division by zero\n"
          ]
        }
      ]
    },
    {
      "cell_type": "code",
      "source": [
        "# 15. Write a Python program that prints the content of a file and handles the case when the file is empty\n",
        "\n",
        "file_name = \"sample.txt\"\n",
        "\n",
        "# Let's create a sample file with content for testing\n",
        "with open(file_name, \"w\") as file:\n",
        "    file.write(\"This is a test file with content.\\n\")\n",
        "\n",
        "# Now, let's check if the file is empty or not before reading its contents\n",
        "try:\n",
        "    with open(file_name, \"r\") as file:\n",
        "        content = file.read()\n",
        "        if content:\n",
        "            print(\"📄 File content:\")\n",
        "            print(content)\n",
        "        else:\n",
        "            print(\"The file is empty.\")\n",
        "except FileNotFoundError:\n",
        "    print(f\" Error: The file '{file_name}' does not exist.\")\n"
      ],
      "metadata": {
        "id": "_4kDLYWZPTso",
        "colab": {
          "base_uri": "https://localhost:8080/"
        },
        "outputId": "79e7400a-17cb-4d33-8947-43e540022053"
      },
      "execution_count": null,
      "outputs": [
        {
          "output_type": "stream",
          "name": "stdout",
          "text": [
            "📄 File content:\n",
            "This is a test file with content.\n",
            "\n"
          ]
        }
      ]
    },
    {
      "cell_type": "code",
      "source": [
        "\n",
        "# 16. Demonstrate how to use memory profiling to check the memory usage of a small program\n",
        "\n",
        "# Install the memory-profiler library\n",
        "!pip install memory-profiler\n",
        "\n",
        "from memory_profiler import memory_usage\n",
        "\n",
        "# Define the function whose memory usage you want to profile\n",
        "def my_function():\n",
        "    a = [1] * (10**6)  # Create a large list of 1 million elements\n",
        "    b = [2] * (2 * 10**7)  # Create a larger list with 20 million elements\n",
        "    del b  # Delete the larger list to free memory\n",
        "    return a\n",
        "\n",
        "# Use memory_usage to track memory usage of the function\n",
        "mem_usage = memory_usage(my_function)\n",
        "print(f\"Memory usage during execution: {mem_usage}\")\n",
        "\n"
      ],
      "metadata": {
        "id": "e4UtoqlDPTvw",
        "colab": {
          "base_uri": "https://localhost:8080/"
        },
        "outputId": "62eb3ed3-6ee1-4283-9bca-2b1b0bd66025"
      },
      "execution_count": null,
      "outputs": [
        {
          "output_type": "stream",
          "name": "stdout",
          "text": [
            "Requirement already satisfied: memory-profiler in /usr/local/lib/python3.11/dist-packages (0.61.0)\n",
            "Requirement already satisfied: psutil in /usr/local/lib/python3.11/dist-packages (from memory-profiler) (5.9.5)\n",
            "Memory usage during execution: [116.68359375, 116.6875, 232.94921875, 276.00390625, 123.45703125]\n"
          ]
        }
      ]
    },
    {
      "cell_type": "code",
      "source": [
        "# 17. Write a Python program to create and write a list of numbers to a file, one number per line\n",
        "\n",
        "\n",
        "numbers = [1, 2, 3, 4, 5, 6, 7, 8, 9, 10]\n",
        "\n",
        "# Open a file in write mode\n",
        "file_name = \"numbers.txt\"\n",
        "with open(file_name, \"w\") as file:\n",
        "    # Write each number in the list to the file, one per line\n",
        "    for number in numbers:\n",
        "        file.write(f\"{number}\\n\")\n",
        "\n",
        "print(f\"Numbers have been written to {file_name}.\")\n"
      ],
      "metadata": {
        "id": "-ZsE3-xNPTyo",
        "colab": {
          "base_uri": "https://localhost:8080/"
        },
        "outputId": "1a17cbea-e131-4d12-b5eb-463728d3912e"
      },
      "execution_count": null,
      "outputs": [
        {
          "output_type": "stream",
          "name": "stdout",
          "text": [
            "Numbers have been written to numbers.txt.\n"
          ]
        }
      ]
    },
    {
      "cell_type": "code",
      "source": [
        "# 18. How would you implement a basic logging setup that logs to a file with rotation after 1MB?\n",
        "\n",
        "import logging\n",
        "from logging.handlers import RotatingFileHandler\n",
        "\n",
        "# Create a logger\n",
        "logger = logging.getLogger(\"my_logger\")\n",
        "logger.setLevel(logging.DEBUG)  # Set the log level to capture DEBUG and above\n",
        "\n",
        "# Create a rotating file handler that logs to a file named \"app.log\"\n",
        "# The maxBytes parameter specifies the maximum file size before rotation (1MB = 1 * 1024 * 1024 bytes)\n",
        "# The backupCount parameter specifies how many backup log files to keep\n",
        "log_handler = RotatingFileHandler(\"app.log\", maxBytes=1 * 1024 * 1024, backupCount=3)\n",
        "\n",
        "# Create a log format\n",
        "log_format = logging.Formatter('%(asctime)s - %(levelname)s - %(message)s')\n",
        "log_handler.setFormatter(log_format)\n",
        "\n",
        "# Add the handler to the logger\n",
        "logger.addHandler(log_handler)\n",
        "\n",
        "# Log some messages for demonstration\n",
        "logger.debug(\"This is a debug message.\")\n",
        "logger.info(\"This is an informational message.\")\n",
        "logger.warning(\"This is a warning message.\")\n",
        "logger.error(\"This is an error message.\")\n",
        "logger.critical(\"This is a critical message.\")\n",
        "\n",
        "print(\"Logging setup complete. Check the 'app.log' file for logs.\")\n"
      ],
      "metadata": {
        "id": "DIOmYDlFPT1v",
        "colab": {
          "base_uri": "https://localhost:8080/"
        },
        "outputId": "913c8366-8698-4326-8256-23e94c47e2a0"
      },
      "execution_count": null,
      "outputs": [
        {
          "output_type": "stream",
          "name": "stderr",
          "text": [
            "DEBUG:my_logger:This is a debug message.\n",
            "INFO:my_logger:This is an informational message.\n",
            "WARNING:my_logger:This is a warning message.\n",
            "ERROR:my_logger:This is an error message.\n",
            "CRITICAL:my_logger:This is a critical message.\n"
          ]
        },
        {
          "output_type": "stream",
          "name": "stdout",
          "text": [
            "Logging setup complete. Check the 'app.log' file for logs.\n"
          ]
        }
      ]
    },
    {
      "cell_type": "code",
      "source": [
        "# 19. Write a program that handles both IndexError and KeyError using a try-except block\n",
        "\n",
        "def handle_exceptions():\n",
        "    my_list = [1, 2, 3]\n",
        "    my_dict = {\"a\": 1, \"b\": 2}\n",
        "\n",
        "    try:\n",
        "        # This will cause an IndexError because index 5 is out of range\n",
        "        print(my_list[5])\n",
        "    except IndexError:\n",
        "        print(\"IndexError: List index out of range!\")\n",
        "\n",
        "    try:\n",
        "        # This will cause a KeyError because 'c' is not a key in the dictionary\n",
        "        print(my_dict[\"c\"])\n",
        "    except KeyError:\n",
        "        print(\"KeyError: Key 'c' not found in the dictionary!\")\n",
        "\n",
        "# Call the function to demonstrate exception handling\n",
        "handle_exceptions()\n"
      ],
      "metadata": {
        "id": "xQKJBNiHPT4t",
        "colab": {
          "base_uri": "https://localhost:8080/"
        },
        "outputId": "91debf83-faa1-4bbf-ede8-35f7bf7c98d1"
      },
      "execution_count": null,
      "outputs": [
        {
          "output_type": "stream",
          "name": "stdout",
          "text": [
            "IndexError: List index out of range!\n",
            "KeyError: Key 'c' not found in the dictionary!\n"
          ]
        }
      ]
    },
    {
      "cell_type": "code",
      "source": [
        "# 20. How would you open a file and read its contents using a context manager in Python?\n",
        "\n",
        "# Open a file and read its contents using a context manager\n",
        "\n",
        "from google.colab import files\n",
        "uploaded = files.upload()\n",
        "\n",
        "file_name = \"example.txt\"\n",
        "\n",
        "try:\n",
        "    with open(file_name, \"r\") as file:\n",
        "        content = file.read()\n",
        "        print(\"File content:\")\n",
        "        print(content)\n",
        "except FileNotFoundError:\n",
        "    print(f\"The file '{file_name}' does not exist.\")\n",
        "\n"
      ],
      "metadata": {
        "id": "17zA05fDPT8S",
        "colab": {
          "base_uri": "https://localhost:8080/",
          "height": 144
        },
        "outputId": "e82b8858-2f9a-4ef5-b456-f9537975476e"
      },
      "execution_count": 8,
      "outputs": [
        {
          "output_type": "display_data",
          "data": {
            "text/plain": [
              "<IPython.core.display.HTML object>"
            ],
            "text/html": [
              "\n",
              "     <input type=\"file\" id=\"files-8876af4e-2e4d-43d2-b7f5-6556954a7e49\" name=\"files[]\" multiple disabled\n",
              "        style=\"border:none\" />\n",
              "     <output id=\"result-8876af4e-2e4d-43d2-b7f5-6556954a7e49\">\n",
              "      Upload widget is only available when the cell has been executed in the\n",
              "      current browser session. Please rerun this cell to enable.\n",
              "      </output>\n",
              "      <script>// Copyright 2017 Google LLC\n",
              "//\n",
              "// Licensed under the Apache License, Version 2.0 (the \"License\");\n",
              "// you may not use this file except in compliance with the License.\n",
              "// You may obtain a copy of the License at\n",
              "//\n",
              "//      http://www.apache.org/licenses/LICENSE-2.0\n",
              "//\n",
              "// Unless required by applicable law or agreed to in writing, software\n",
              "// distributed under the License is distributed on an \"AS IS\" BASIS,\n",
              "// WITHOUT WARRANTIES OR CONDITIONS OF ANY KIND, either express or implied.\n",
              "// See the License for the specific language governing permissions and\n",
              "// limitations under the License.\n",
              "\n",
              "/**\n",
              " * @fileoverview Helpers for google.colab Python module.\n",
              " */\n",
              "(function(scope) {\n",
              "function span(text, styleAttributes = {}) {\n",
              "  const element = document.createElement('span');\n",
              "  element.textContent = text;\n",
              "  for (const key of Object.keys(styleAttributes)) {\n",
              "    element.style[key] = styleAttributes[key];\n",
              "  }\n",
              "  return element;\n",
              "}\n",
              "\n",
              "// Max number of bytes which will be uploaded at a time.\n",
              "const MAX_PAYLOAD_SIZE = 100 * 1024;\n",
              "\n",
              "function _uploadFiles(inputId, outputId) {\n",
              "  const steps = uploadFilesStep(inputId, outputId);\n",
              "  const outputElement = document.getElementById(outputId);\n",
              "  // Cache steps on the outputElement to make it available for the next call\n",
              "  // to uploadFilesContinue from Python.\n",
              "  outputElement.steps = steps;\n",
              "\n",
              "  return _uploadFilesContinue(outputId);\n",
              "}\n",
              "\n",
              "// This is roughly an async generator (not supported in the browser yet),\n",
              "// where there are multiple asynchronous steps and the Python side is going\n",
              "// to poll for completion of each step.\n",
              "// This uses a Promise to block the python side on completion of each step,\n",
              "// then passes the result of the previous step as the input to the next step.\n",
              "function _uploadFilesContinue(outputId) {\n",
              "  const outputElement = document.getElementById(outputId);\n",
              "  const steps = outputElement.steps;\n",
              "\n",
              "  const next = steps.next(outputElement.lastPromiseValue);\n",
              "  return Promise.resolve(next.value.promise).then((value) => {\n",
              "    // Cache the last promise value to make it available to the next\n",
              "    // step of the generator.\n",
              "    outputElement.lastPromiseValue = value;\n",
              "    return next.value.response;\n",
              "  });\n",
              "}\n",
              "\n",
              "/**\n",
              " * Generator function which is called between each async step of the upload\n",
              " * process.\n",
              " * @param {string} inputId Element ID of the input file picker element.\n",
              " * @param {string} outputId Element ID of the output display.\n",
              " * @return {!Iterable<!Object>} Iterable of next steps.\n",
              " */\n",
              "function* uploadFilesStep(inputId, outputId) {\n",
              "  const inputElement = document.getElementById(inputId);\n",
              "  inputElement.disabled = false;\n",
              "\n",
              "  const outputElement = document.getElementById(outputId);\n",
              "  outputElement.innerHTML = '';\n",
              "\n",
              "  const pickedPromise = new Promise((resolve) => {\n",
              "    inputElement.addEventListener('change', (e) => {\n",
              "      resolve(e.target.files);\n",
              "    });\n",
              "  });\n",
              "\n",
              "  const cancel = document.createElement('button');\n",
              "  inputElement.parentElement.appendChild(cancel);\n",
              "  cancel.textContent = 'Cancel upload';\n",
              "  const cancelPromise = new Promise((resolve) => {\n",
              "    cancel.onclick = () => {\n",
              "      resolve(null);\n",
              "    };\n",
              "  });\n",
              "\n",
              "  // Wait for the user to pick the files.\n",
              "  const files = yield {\n",
              "    promise: Promise.race([pickedPromise, cancelPromise]),\n",
              "    response: {\n",
              "      action: 'starting',\n",
              "    }\n",
              "  };\n",
              "\n",
              "  cancel.remove();\n",
              "\n",
              "  // Disable the input element since further picks are not allowed.\n",
              "  inputElement.disabled = true;\n",
              "\n",
              "  if (!files) {\n",
              "    return {\n",
              "      response: {\n",
              "        action: 'complete',\n",
              "      }\n",
              "    };\n",
              "  }\n",
              "\n",
              "  for (const file of files) {\n",
              "    const li = document.createElement('li');\n",
              "    li.append(span(file.name, {fontWeight: 'bold'}));\n",
              "    li.append(span(\n",
              "        `(${file.type || 'n/a'}) - ${file.size} bytes, ` +\n",
              "        `last modified: ${\n",
              "            file.lastModifiedDate ? file.lastModifiedDate.toLocaleDateString() :\n",
              "                                    'n/a'} - `));\n",
              "    const percent = span('0% done');\n",
              "    li.appendChild(percent);\n",
              "\n",
              "    outputElement.appendChild(li);\n",
              "\n",
              "    const fileDataPromise = new Promise((resolve) => {\n",
              "      const reader = new FileReader();\n",
              "      reader.onload = (e) => {\n",
              "        resolve(e.target.result);\n",
              "      };\n",
              "      reader.readAsArrayBuffer(file);\n",
              "    });\n",
              "    // Wait for the data to be ready.\n",
              "    let fileData = yield {\n",
              "      promise: fileDataPromise,\n",
              "      response: {\n",
              "        action: 'continue',\n",
              "      }\n",
              "    };\n",
              "\n",
              "    // Use a chunked sending to avoid message size limits. See b/62115660.\n",
              "    let position = 0;\n",
              "    do {\n",
              "      const length = Math.min(fileData.byteLength - position, MAX_PAYLOAD_SIZE);\n",
              "      const chunk = new Uint8Array(fileData, position, length);\n",
              "      position += length;\n",
              "\n",
              "      const base64 = btoa(String.fromCharCode.apply(null, chunk));\n",
              "      yield {\n",
              "        response: {\n",
              "          action: 'append',\n",
              "          file: file.name,\n",
              "          data: base64,\n",
              "        },\n",
              "      };\n",
              "\n",
              "      let percentDone = fileData.byteLength === 0 ?\n",
              "          100 :\n",
              "          Math.round((position / fileData.byteLength) * 100);\n",
              "      percent.textContent = `${percentDone}% done`;\n",
              "\n",
              "    } while (position < fileData.byteLength);\n",
              "  }\n",
              "\n",
              "  // All done.\n",
              "  yield {\n",
              "    response: {\n",
              "      action: 'complete',\n",
              "    }\n",
              "  };\n",
              "}\n",
              "\n",
              "scope.google = scope.google || {};\n",
              "scope.google.colab = scope.google.colab || {};\n",
              "scope.google.colab._files = {\n",
              "  _uploadFiles,\n",
              "  _uploadFilesContinue,\n",
              "};\n",
              "})(self);\n",
              "</script> "
            ]
          },
          "metadata": {}
        },
        {
          "output_type": "stream",
          "name": "stdout",
          "text": [
            "Saving example.txt to example.txt\n",
            "File content:\n",
            "Example.txt\n",
            "\n",
            "\n"
          ]
        }
      ]
    },
    {
      "cell_type": "code",
      "source": [
        "# 21. Write a Python program that reads a file and prints the number of occurrences of a specific word\n",
        "\n",
        "# Upload the file to read\n",
        "from google.colab import files\n",
        "uploaded = files.upload()\n",
        "\n",
        "# Specify the file name and the word to count\n",
        "file_name = \"example.txt\"  # Replace with your uploaded file name\n",
        "word_to_count = \"python\"   # Replace with the word you want to count\n",
        "\n",
        "try:\n",
        "    with open(file_name, \"r\") as file:\n",
        "        content = file.read()\n",
        "        word_count = content.lower().split().count(word_to_count.lower())\n",
        "        print(f\"The word '{word_to_count}' appears {word_count} times in the file.\")\n",
        "except FileNotFoundError:\n",
        "    print(f\"The file '{file_name}' does not exist.\")\n",
        "\n"
      ],
      "metadata": {
        "id": "-AGj-Cr-PT_a",
        "colab": {
          "base_uri": "https://localhost:8080/",
          "height": 91
        },
        "outputId": "ae62afab-90d0-4129-bff1-77806212a9c5"
      },
      "execution_count": 7,
      "outputs": [
        {
          "output_type": "display_data",
          "data": {
            "text/plain": [
              "<IPython.core.display.HTML object>"
            ],
            "text/html": [
              "\n",
              "     <input type=\"file\" id=\"files-0f47056c-d757-456d-9407-1747e12f7b28\" name=\"files[]\" multiple disabled\n",
              "        style=\"border:none\" />\n",
              "     <output id=\"result-0f47056c-d757-456d-9407-1747e12f7b28\">\n",
              "      Upload widget is only available when the cell has been executed in the\n",
              "      current browser session. Please rerun this cell to enable.\n",
              "      </output>\n",
              "      <script>// Copyright 2017 Google LLC\n",
              "//\n",
              "// Licensed under the Apache License, Version 2.0 (the \"License\");\n",
              "// you may not use this file except in compliance with the License.\n",
              "// You may obtain a copy of the License at\n",
              "//\n",
              "//      http://www.apache.org/licenses/LICENSE-2.0\n",
              "//\n",
              "// Unless required by applicable law or agreed to in writing, software\n",
              "// distributed under the License is distributed on an \"AS IS\" BASIS,\n",
              "// WITHOUT WARRANTIES OR CONDITIONS OF ANY KIND, either express or implied.\n",
              "// See the License for the specific language governing permissions and\n",
              "// limitations under the License.\n",
              "\n",
              "/**\n",
              " * @fileoverview Helpers for google.colab Python module.\n",
              " */\n",
              "(function(scope) {\n",
              "function span(text, styleAttributes = {}) {\n",
              "  const element = document.createElement('span');\n",
              "  element.textContent = text;\n",
              "  for (const key of Object.keys(styleAttributes)) {\n",
              "    element.style[key] = styleAttributes[key];\n",
              "  }\n",
              "  return element;\n",
              "}\n",
              "\n",
              "// Max number of bytes which will be uploaded at a time.\n",
              "const MAX_PAYLOAD_SIZE = 100 * 1024;\n",
              "\n",
              "function _uploadFiles(inputId, outputId) {\n",
              "  const steps = uploadFilesStep(inputId, outputId);\n",
              "  const outputElement = document.getElementById(outputId);\n",
              "  // Cache steps on the outputElement to make it available for the next call\n",
              "  // to uploadFilesContinue from Python.\n",
              "  outputElement.steps = steps;\n",
              "\n",
              "  return _uploadFilesContinue(outputId);\n",
              "}\n",
              "\n",
              "// This is roughly an async generator (not supported in the browser yet),\n",
              "// where there are multiple asynchronous steps and the Python side is going\n",
              "// to poll for completion of each step.\n",
              "// This uses a Promise to block the python side on completion of each step,\n",
              "// then passes the result of the previous step as the input to the next step.\n",
              "function _uploadFilesContinue(outputId) {\n",
              "  const outputElement = document.getElementById(outputId);\n",
              "  const steps = outputElement.steps;\n",
              "\n",
              "  const next = steps.next(outputElement.lastPromiseValue);\n",
              "  return Promise.resolve(next.value.promise).then((value) => {\n",
              "    // Cache the last promise value to make it available to the next\n",
              "    // step of the generator.\n",
              "    outputElement.lastPromiseValue = value;\n",
              "    return next.value.response;\n",
              "  });\n",
              "}\n",
              "\n",
              "/**\n",
              " * Generator function which is called between each async step of the upload\n",
              " * process.\n",
              " * @param {string} inputId Element ID of the input file picker element.\n",
              " * @param {string} outputId Element ID of the output display.\n",
              " * @return {!Iterable<!Object>} Iterable of next steps.\n",
              " */\n",
              "function* uploadFilesStep(inputId, outputId) {\n",
              "  const inputElement = document.getElementById(inputId);\n",
              "  inputElement.disabled = false;\n",
              "\n",
              "  const outputElement = document.getElementById(outputId);\n",
              "  outputElement.innerHTML = '';\n",
              "\n",
              "  const pickedPromise = new Promise((resolve) => {\n",
              "    inputElement.addEventListener('change', (e) => {\n",
              "      resolve(e.target.files);\n",
              "    });\n",
              "  });\n",
              "\n",
              "  const cancel = document.createElement('button');\n",
              "  inputElement.parentElement.appendChild(cancel);\n",
              "  cancel.textContent = 'Cancel upload';\n",
              "  const cancelPromise = new Promise((resolve) => {\n",
              "    cancel.onclick = () => {\n",
              "      resolve(null);\n",
              "    };\n",
              "  });\n",
              "\n",
              "  // Wait for the user to pick the files.\n",
              "  const files = yield {\n",
              "    promise: Promise.race([pickedPromise, cancelPromise]),\n",
              "    response: {\n",
              "      action: 'starting',\n",
              "    }\n",
              "  };\n",
              "\n",
              "  cancel.remove();\n",
              "\n",
              "  // Disable the input element since further picks are not allowed.\n",
              "  inputElement.disabled = true;\n",
              "\n",
              "  if (!files) {\n",
              "    return {\n",
              "      response: {\n",
              "        action: 'complete',\n",
              "      }\n",
              "    };\n",
              "  }\n",
              "\n",
              "  for (const file of files) {\n",
              "    const li = document.createElement('li');\n",
              "    li.append(span(file.name, {fontWeight: 'bold'}));\n",
              "    li.append(span(\n",
              "        `(${file.type || 'n/a'}) - ${file.size} bytes, ` +\n",
              "        `last modified: ${\n",
              "            file.lastModifiedDate ? file.lastModifiedDate.toLocaleDateString() :\n",
              "                                    'n/a'} - `));\n",
              "    const percent = span('0% done');\n",
              "    li.appendChild(percent);\n",
              "\n",
              "    outputElement.appendChild(li);\n",
              "\n",
              "    const fileDataPromise = new Promise((resolve) => {\n",
              "      const reader = new FileReader();\n",
              "      reader.onload = (e) => {\n",
              "        resolve(e.target.result);\n",
              "      };\n",
              "      reader.readAsArrayBuffer(file);\n",
              "    });\n",
              "    // Wait for the data to be ready.\n",
              "    let fileData = yield {\n",
              "      promise: fileDataPromise,\n",
              "      response: {\n",
              "        action: 'continue',\n",
              "      }\n",
              "    };\n",
              "\n",
              "    // Use a chunked sending to avoid message size limits. See b/62115660.\n",
              "    let position = 0;\n",
              "    do {\n",
              "      const length = Math.min(fileData.byteLength - position, MAX_PAYLOAD_SIZE);\n",
              "      const chunk = new Uint8Array(fileData, position, length);\n",
              "      position += length;\n",
              "\n",
              "      const base64 = btoa(String.fromCharCode.apply(null, chunk));\n",
              "      yield {\n",
              "        response: {\n",
              "          action: 'append',\n",
              "          file: file.name,\n",
              "          data: base64,\n",
              "        },\n",
              "      };\n",
              "\n",
              "      let percentDone = fileData.byteLength === 0 ?\n",
              "          100 :\n",
              "          Math.round((position / fileData.byteLength) * 100);\n",
              "      percent.textContent = `${percentDone}% done`;\n",
              "\n",
              "    } while (position < fileData.byteLength);\n",
              "  }\n",
              "\n",
              "  // All done.\n",
              "  yield {\n",
              "    response: {\n",
              "      action: 'complete',\n",
              "    }\n",
              "  };\n",
              "}\n",
              "\n",
              "scope.google = scope.google || {};\n",
              "scope.google.colab = scope.google.colab || {};\n",
              "scope.google.colab._files = {\n",
              "  _uploadFiles,\n",
              "  _uploadFilesContinue,\n",
              "};\n",
              "})(self);\n",
              "</script> "
            ]
          },
          "metadata": {}
        },
        {
          "output_type": "stream",
          "name": "stdout",
          "text": [
            "Saving example.txt to example.txt\n",
            "The word 'python' appears 2 times in the file.\n"
          ]
        }
      ]
    },
    {
      "cell_type": "code",
      "source": [
        "# 22. How can you check if a file is empty before attempting to read its contents?\n",
        "\n",
        "import os\n",
        "\n",
        "def read_if_not_empty(file_name):\n",
        "    # Check if the file exists and is not empty\n",
        "    if os.path.exists(file_name) and os.path.getsize(file_name) > 0:\n",
        "        with open(file_name, \"r\") as file:\n",
        "            content = file.read()  # Read the content if the file is not empty\n",
        "        print(\"File content:\")\n",
        "        print(content)\n",
        "    else:\n",
        "        print(f\"The file '{file_name}' is empty or doesn't exist.\")\n",
        "\n",
        "# Example usage\n",
        "file_name = \"example.txt\"\n",
        "read_if_not_empty(file_name)\n"
      ],
      "metadata": {
        "id": "nqkmtSHKPUCo",
        "colab": {
          "base_uri": "https://localhost:8080/"
        },
        "outputId": "0e93a4d3-560a-49d5-b505-a8bc5155b871"
      },
      "execution_count": 5,
      "outputs": [
        {
          "output_type": "stream",
          "name": "stdout",
          "text": [
            "The file 'example.txt' is empty or doesn't exist.\n"
          ]
        }
      ]
    },
    {
      "cell_type": "code",
      "source": [
        "# 23. Write a Python program that writes to a log file when an error occurs during file handling\n",
        "\n",
        "import logging\n",
        "\n",
        "def process_file(filename):\n",
        "    try:\n",
        "        with open(filename, 'r') as f:\n",
        "            # Perform file operations here\n",
        "            contents = f.read()\n",
        "            # ... further processing\n",
        "    except FileNotFoundError:\n",
        "        logging.error(f\"File not found: {filename}\")\n",
        "    except PermissionError:\n",
        "        logging.error(f\"Permission denied when accessing: {filename}\")\n",
        "    except Exception as e:  # Catch other potential file-related errors\n",
        "        logging.error(f\"An unexpected error occurred while processing {filename}: {e}\")\n",
        "\n",
        "\n",
        "# Configure logging to write to a file named 'file_handling.log'\n",
        "logging.basicConfig(filename='file_handling.log', level=logging.ERROR,\n",
        "                    format='%(asctime)s - %(levelname)s - %(message)s')\n",
        "\n",
        "# Example usage (replace 'my_file.txt' with your file)\n",
        "process_file('my_file.txt')\n"
      ],
      "metadata": {
        "id": "XB7Kg8AHPUbH",
        "colab": {
          "base_uri": "https://localhost:8080/"
        },
        "outputId": "6cb7deff-cff7-4326-9be1-b84b24d2fb4f"
      },
      "execution_count": 6,
      "outputs": [
        {
          "output_type": "stream",
          "name": "stderr",
          "text": [
            "ERROR:root:File not found: my_file.txt\n"
          ]
        }
      ]
    }
  ]
}